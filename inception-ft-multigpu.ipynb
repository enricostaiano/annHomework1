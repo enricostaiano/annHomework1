{
 "cells": [
  {
   "cell_type": "markdown",
   "id": "cb601888",
   "metadata": {
    "id": "l3FoTyRa9pLu",
    "papermill": {
     "duration": 0.01328,
     "end_time": "2022-11-15T19:33:30.510695",
     "exception": false,
     "start_time": "2022-11-15T19:33:30.497415",
     "status": "completed"
    },
    "tags": []
   },
   "source": [
    "# **LIBRARIES**"
   ]
  },
  {
   "cell_type": "markdown",
   "id": "aaad533c",
   "metadata": {
    "papermill": {
     "duration": 0.007833,
     "end_time": "2022-11-15T19:33:30.528212",
     "exception": false,
     "start_time": "2022-11-15T19:33:30.520379",
     "status": "completed"
    },
    "tags": []
   },
   "source": [
    "The first attempt tries to use Inception for TL with no other fancy things. \n",
    "MAYBE having a \"mix\" of receptive fields like inception does is good.  "
   ]
  },
  {
   "cell_type": "code",
   "execution_count": 1,
   "id": "5114dd24",
   "metadata": {
    "execution": {
     "iopub.execute_input": "2022-11-15T19:33:30.546157Z",
     "iopub.status.busy": "2022-11-15T19:33:30.545534Z",
     "iopub.status.idle": "2022-11-15T19:33:37.838871Z",
     "shell.execute_reply": "2022-11-15T19:33:37.836877Z"
    },
    "id": "f_sOaV1Y8NsL",
    "outputId": "62e1649f-24e0-4dce-daba-9580ccaac6ab",
    "papermill": {
     "duration": 7.305245,
     "end_time": "2022-11-15T19:33:37.841454",
     "exception": false,
     "start_time": "2022-11-15T19:33:30.536209",
     "status": "completed"
    },
    "tags": []
   },
   "outputs": [
    {
     "name": "stdout",
     "output_type": "stream",
     "text": [
      "2.6.4\n"
     ]
    }
   ],
   "source": [
    "import tensorflow as tf\n",
    "import numpy as np\n",
    "from numpy import asarray\n",
    "import os\n",
    "import random\n",
    "import pandas as pd\n",
    "import seaborn as sns\n",
    "import matplotlib as mpl\n",
    "import matplotlib.pyplot as plt\n",
    "\n",
    "from sklearn.model_selection import train_test_split\n",
    "from sklearn.metrics import accuracy_score, f1_score, precision_score, recall_score\n",
    "from sklearn.metrics import confusion_matrix\n",
    "\n",
    "from PIL import Image\n",
    "from tensorflow.keras.preprocessing.image import ImageDataGenerator\n",
    "from sklearn.utils import class_weight\n",
    "import datetime \n",
    "import pathlib\n",
    "\n",
    "tfk = tf.keras\n",
    "tfkl = tf.keras.layers\n",
    "print(tf.__version__)"
   ]
  },
  {
   "cell_type": "code",
   "execution_count": 2,
   "id": "ce1779c1",
   "metadata": {
    "execution": {
     "iopub.execute_input": "2022-11-15T19:33:37.854974Z",
     "iopub.status.busy": "2022-11-15T19:33:37.854486Z",
     "iopub.status.idle": "2022-11-15T19:33:37.860849Z",
     "shell.execute_reply": "2022-11-15T19:33:37.860003Z"
    },
    "id": "C7HYua8HUHIj",
    "papermill": {
     "duration": 0.015305,
     "end_time": "2022-11-15T19:33:37.862881",
     "exception": false,
     "start_time": "2022-11-15T19:33:37.847576",
     "status": "completed"
    },
    "tags": []
   },
   "outputs": [],
   "source": [
    "seed = 42127\n",
    "random.seed(seed)\n",
    "os.environ['PYTHONHASHSEED'] = str(seed)\n",
    "np.random.seed(seed)\n",
    "tf.random.set_seed(seed)\n",
    "tf.compat.v1.set_random_seed(seed)"
   ]
  },
  {
   "cell_type": "code",
   "execution_count": 3,
   "id": "e4892564",
   "metadata": {
    "execution": {
     "iopub.execute_input": "2022-11-15T19:33:37.875814Z",
     "iopub.status.busy": "2022-11-15T19:33:37.875092Z",
     "iopub.status.idle": "2022-11-15T19:33:42.629314Z",
     "shell.execute_reply": "2022-11-15T19:33:42.628359Z"
    },
    "papermill": {
     "duration": 4.76347,
     "end_time": "2022-11-15T19:33:42.632015",
     "exception": false,
     "start_time": "2022-11-15T19:33:37.868545",
     "status": "completed"
    },
    "tags": []
   },
   "outputs": [
    {
     "name": "stderr",
     "output_type": "stream",
     "text": [
      "2022-11-15 19:33:38.002009: I tensorflow/stream_executor/cuda/cuda_gpu_executor.cc:937] successful NUMA node read from SysFS had negative value (-1), but there must be at least one NUMA node, so returning NUMA node zero\n",
      "2022-11-15 19:33:38.002981: I tensorflow/stream_executor/cuda/cuda_gpu_executor.cc:937] successful NUMA node read from SysFS had negative value (-1), but there must be at least one NUMA node, so returning NUMA node zero\n",
      "2022-11-15 19:33:38.165222: I tensorflow/stream_executor/cuda/cuda_gpu_executor.cc:937] successful NUMA node read from SysFS had negative value (-1), but there must be at least one NUMA node, so returning NUMA node zero\n",
      "2022-11-15 19:33:38.166182: I tensorflow/stream_executor/cuda/cuda_gpu_executor.cc:937] successful NUMA node read from SysFS had negative value (-1), but there must be at least one NUMA node, so returning NUMA node zero\n",
      "2022-11-15 19:33:38.167009: I tensorflow/stream_executor/cuda/cuda_gpu_executor.cc:937] successful NUMA node read from SysFS had negative value (-1), but there must be at least one NUMA node, so returning NUMA node zero\n",
      "2022-11-15 19:33:38.167808: I tensorflow/stream_executor/cuda/cuda_gpu_executor.cc:937] successful NUMA node read from SysFS had negative value (-1), but there must be at least one NUMA node, so returning NUMA node zero\n",
      "2022-11-15 19:33:38.171231: I tensorflow/core/platform/cpu_feature_guard.cc:142] This TensorFlow binary is optimized with oneAPI Deep Neural Network Library (oneDNN) to use the following CPU instructions in performance-critical operations:  AVX2 AVX512F FMA\n",
      "To enable them in other operations, rebuild TensorFlow with the appropriate compiler flags.\n",
      "2022-11-15 19:33:38.433840: I tensorflow/stream_executor/cuda/cuda_gpu_executor.cc:937] successful NUMA node read from SysFS had negative value (-1), but there must be at least one NUMA node, so returning NUMA node zero\n",
      "2022-11-15 19:33:38.434782: I tensorflow/stream_executor/cuda/cuda_gpu_executor.cc:937] successful NUMA node read from SysFS had negative value (-1), but there must be at least one NUMA node, so returning NUMA node zero\n",
      "2022-11-15 19:33:38.435506: I tensorflow/stream_executor/cuda/cuda_gpu_executor.cc:937] successful NUMA node read from SysFS had negative value (-1), but there must be at least one NUMA node, so returning NUMA node zero\n",
      "2022-11-15 19:33:38.436185: I tensorflow/stream_executor/cuda/cuda_gpu_executor.cc:937] successful NUMA node read from SysFS had negative value (-1), but there must be at least one NUMA node, so returning NUMA node zero\n",
      "2022-11-15 19:33:38.436845: I tensorflow/stream_executor/cuda/cuda_gpu_executor.cc:937] successful NUMA node read from SysFS had negative value (-1), but there must be at least one NUMA node, so returning NUMA node zero\n",
      "2022-11-15 19:33:38.437533: I tensorflow/stream_executor/cuda/cuda_gpu_executor.cc:937] successful NUMA node read from SysFS had negative value (-1), but there must be at least one NUMA node, so returning NUMA node zero\n",
      "2022-11-15 19:33:41.936217: I tensorflow/stream_executor/cuda/cuda_gpu_executor.cc:937] successful NUMA node read from SysFS had negative value (-1), but there must be at least one NUMA node, so returning NUMA node zero\n",
      "2022-11-15 19:33:41.937509: I tensorflow/stream_executor/cuda/cuda_gpu_executor.cc:937] successful NUMA node read from SysFS had negative value (-1), but there must be at least one NUMA node, so returning NUMA node zero\n",
      "2022-11-15 19:33:41.938640: I tensorflow/stream_executor/cuda/cuda_gpu_executor.cc:937] successful NUMA node read from SysFS had negative value (-1), but there must be at least one NUMA node, so returning NUMA node zero\n",
      "2022-11-15 19:33:41.939823: I tensorflow/stream_executor/cuda/cuda_gpu_executor.cc:937] successful NUMA node read from SysFS had negative value (-1), but there must be at least one NUMA node, so returning NUMA node zero\n",
      "2022-11-15 19:33:41.940982: I tensorflow/stream_executor/cuda/cuda_gpu_executor.cc:937] successful NUMA node read from SysFS had negative value (-1), but there must be at least one NUMA node, so returning NUMA node zero\n",
      "2022-11-15 19:33:41.941989: I tensorflow/core/common_runtime/gpu/gpu_device.cc:1510] Created device /job:localhost/replica:0/task:0/device:GPU:0 with 13789 MB memory:  -> device: 0, name: Tesla T4, pci bus id: 0000:00:04.0, compute capability: 7.5\n",
      "2022-11-15 19:33:41.947216: I tensorflow/stream_executor/cuda/cuda_gpu_executor.cc:937] successful NUMA node read from SysFS had negative value (-1), but there must be at least one NUMA node, so returning NUMA node zero\n",
      "2022-11-15 19:33:41.948198: I tensorflow/core/common_runtime/gpu/gpu_device.cc:1510] Created device /job:localhost/replica:0/task:0/device:GPU:1 with 13789 MB memory:  -> device: 1, name: Tesla T4, pci bus id: 0000:00:05.0, compute capability: 7.5\n"
     ]
    }
   ],
   "source": [
    "mirrored_strategy = tf.distribute.MirroredStrategy()\n"
   ]
  },
  {
   "cell_type": "markdown",
   "id": "2179478a",
   "metadata": {
    "id": "BDM82PpE3VSg",
    "papermill": {
     "duration": 0.005651,
     "end_time": "2022-11-15T19:33:42.643959",
     "exception": false,
     "start_time": "2022-11-15T19:33:42.638308",
     "status": "completed"
    },
    "tags": []
   },
   "source": [
    "### Suppress warnings"
   ]
  },
  {
   "cell_type": "code",
   "execution_count": 4,
   "id": "f21bc354",
   "metadata": {
    "execution": {
     "iopub.execute_input": "2022-11-15T19:33:42.658360Z",
     "iopub.status.busy": "2022-11-15T19:33:42.657763Z",
     "iopub.status.idle": "2022-11-15T19:33:42.664368Z",
     "shell.execute_reply": "2022-11-15T19:33:42.663664Z"
    },
    "id": "5fXtacjAqOIq",
    "papermill": {
     "duration": 0.016346,
     "end_time": "2022-11-15T19:33:42.666128",
     "exception": false,
     "start_time": "2022-11-15T19:33:42.649782",
     "status": "completed"
    },
    "tags": []
   },
   "outputs": [],
   "source": [
    "import warnings\n",
    "import logging\n",
    "\n",
    "os.environ['TF_CPP_MIN_LOG_LEVEL'] = '2'\n",
    "warnings.simplefilter(action='ignore', category=FutureWarning)\n",
    "warnings.simplefilter(action='ignore', category=Warning)\n",
    "tf.get_logger().setLevel('INFO')\n",
    "tf.autograph.set_verbosity(0)\n",
    "\n",
    "tf.get_logger().setLevel(logging.ERROR)\n",
    "tf.get_logger().setLevel('ERROR')\n",
    "tf.compat.v1.logging.set_verbosity(tf.compat.v1.logging.ERROR)"
   ]
  },
  {
   "cell_type": "markdown",
   "id": "799eb52f",
   "metadata": {
    "id": "MvjjNtBV_jBQ",
    "papermill": {
     "duration": 0.005514,
     "end_time": "2022-11-15T19:33:42.677177",
     "exception": false,
     "start_time": "2022-11-15T19:33:42.671663",
     "status": "completed"
    },
    "tags": []
   },
   "source": [
    "# **DATASET**\n",
    "\n",
    "\n",
    "RGB images of 96x96 pixels.\n"
   ]
  },
  {
   "cell_type": "code",
   "execution_count": 5,
   "id": "dfa1d2ac",
   "metadata": {
    "execution": {
     "iopub.execute_input": "2022-11-15T19:33:42.689744Z",
     "iopub.status.busy": "2022-11-15T19:33:42.689491Z",
     "iopub.status.idle": "2022-11-15T19:33:42.694050Z",
     "shell.execute_reply": "2022-11-15T19:33:42.693182Z"
    },
    "papermill": {
     "duration": 0.013042,
     "end_time": "2022-11-15T19:33:42.696073",
     "exception": false,
     "start_time": "2022-11-15T19:33:42.683031",
     "status": "completed"
    },
    "tags": []
   },
   "outputs": [],
   "source": [
    "def genAugmLayer(seed): \n",
    "    return tf.keras.Sequential([\n",
    "     tfkl.RandomFlip(\"horizontal_and_vertical\"),\n",
    "     tfkl.RandomRotation(0.5),\n",
    "     tfkl.RandomZoom( height_factor=(-0.3, 0.3), width_factor=(-0.3, 0.3),fill_mode = 'reflect',seed=seed) ])"
   ]
  },
  {
   "cell_type": "markdown",
   "id": "798ae878",
   "metadata": {
    "id": "mgetvb8V3FDm",
    "papermill": {
     "duration": 0.005551,
     "end_time": "2022-11-15T19:33:42.707595",
     "exception": false,
     "start_time": "2022-11-15T19:33:42.702044",
     "status": "completed"
    },
    "tags": []
   },
   "source": [
    "***SELECTIVE AUGMENTATION DONE TWO TIMES TO FEED THE NN MORE SAMPLES FROM CLASSES 1 AND 6 (~ 400 PER CLASS)***\n"
   ]
  },
  {
   "cell_type": "code",
   "execution_count": 6,
   "id": "c8057635",
   "metadata": {
    "execution": {
     "iopub.execute_input": "2022-11-15T19:33:42.720109Z",
     "iopub.status.busy": "2022-11-15T19:33:42.719839Z",
     "iopub.status.idle": "2022-11-15T19:33:43.595760Z",
     "shell.execute_reply": "2022-11-15T19:33:43.594806Z"
    },
    "papermill": {
     "duration": 0.884963,
     "end_time": "2022-11-15T19:33:43.598351",
     "exception": false,
     "start_time": "2022-11-15T19:33:42.713388",
     "status": "completed"
    },
    "tags": []
   },
   "outputs": [
    {
     "name": "stdout",
     "output_type": "stream",
     "text": [
      "Found 414 files belonging to 8 classes.\n",
      "Using 332 files for training.\n"
     ]
    }
   ],
   "source": [
    "imbalClasses = tf.keras.utils.image_dataset_from_directory( \n",
    "    '../input/correctedbal',\n",
    "    labels='inferred',\n",
    "    label_mode='categorical',\n",
    "    class_names=None,\n",
    "    color_mode='rgb',\n",
    "    batch_size=32,\n",
    "    image_size=(96,96),\n",
    "    subset = 'training',\n",
    "    validation_split=0.2,\n",
    "    seed=seed,\n",
    ")\n",
    "\n",
    "data_augmentation1 = genAugmLayer(17) \n",
    "dataAugmImbal = imbalClasses.map(lambda x , y : (data_augmentation1(x), y)) \n",
    "data_augmentation2 = genAugmLayer(271) \n",
    "dataAugmImbal = dataAugmImbal.concatenate(imbalClasses.map(lambda x , y : (data_augmentation2(x), y))) #double samples of classes 1 and 6 "
   ]
  },
  {
   "cell_type": "markdown",
   "id": "d6b9ebd7",
   "metadata": {
    "papermill": {
     "duration": 0.005692,
     "end_time": "2022-11-15T19:33:43.610069",
     "exception": false,
     "start_time": "2022-11-15T19:33:43.604377",
     "status": "completed"
    },
    "tags": []
   },
   "source": [
    "***UNIVERSAL AUGMENTATION***"
   ]
  },
  {
   "cell_type": "code",
   "execution_count": 7,
   "id": "deb6a61d",
   "metadata": {
    "execution": {
     "iopub.execute_input": "2022-11-15T19:33:43.623451Z",
     "iopub.status.busy": "2022-11-15T19:33:43.622579Z",
     "iopub.status.idle": "2022-11-15T19:33:50.522711Z",
     "shell.execute_reply": "2022-11-15T19:33:50.520925Z"
    },
    "papermill": {
     "duration": 6.90916,
     "end_time": "2022-11-15T19:33:50.524935",
     "exception": false,
     "start_time": "2022-11-15T19:33:43.615775",
     "status": "completed"
    },
    "tags": []
   },
   "outputs": [
    {
     "name": "stdout",
     "output_type": "stream",
     "text": [
      "Found 3542 files belonging to 8 classes.\n",
      "Using 2834 files for training.\n",
      "Found 3542 files belonging to 8 classes.\n",
      "Using 708 files for validation.\n"
     ]
    },
    {
     "name": "stderr",
     "output_type": "stream",
     "text": [
      "2022-11-15 19:33:44.219950: I tensorflow/compiler/mlir/mlir_graph_optimization_pass.cc:185] None of the MLIR Optimization Passes are enabled (registered 2)\n"
     ]
    },
    {
     "name": "stdout",
     "output_type": "stream",
     "text": [
      "{0: 2.393581081081081, 1: 0.8296252927400468, 2: 0.8923173803526449, 3: 0.843452380952381, 4: 0.8162442396313364, 5: 2.012784090909091, 6: 0.8032879818594104, 7: 0.9060102301790282}\n"
     ]
    }
   ],
   "source": [
    "datapath = '../input/annhw1/training_data_final'\n",
    "training_set = tf.keras.utils.image_dataset_from_directory(\n",
    "    datapath,\n",
    "    labels='inferred',\n",
    "    label_mode='categorical',\n",
    "    class_names=None,\n",
    "    color_mode='rgb',\n",
    "    batch_size=32, \n",
    "    image_size=(96,96),\n",
    "    shuffle=True,\n",
    "    seed=seed,\n",
    "    validation_split=0.2,\n",
    "    subset='training'\n",
    ")\n",
    "\n",
    "validation_set = tf.keras.utils.image_dataset_from_directory(\n",
    "    datapath,\n",
    "    labels='inferred',\n",
    "    label_mode='categorical',\n",
    "    class_names=None,\n",
    "    color_mode='rgb',\n",
    "    batch_size=32, \n",
    "    image_size=(96,96),\n",
    "    shuffle=True,\n",
    "    seed=seed,\n",
    "    validation_split=0.2,\n",
    "    subset='validation'\n",
    ")\n",
    "\n",
    "\n",
    "#-------------WEIGHTS ----------------------------------\n",
    "labels = np.concatenate([y for x, y in training_set], axis=0) \n",
    "class_weights = class_weight.compute_class_weight(class_weight='balanced' ,classes = [i for i in range(8)] , y = np.argmax(labels, axis=-1) ) \n",
    "weights = dict(enumerate(class_weights)) \n",
    "print(weights)\n",
    "#-------------------------------------------------------\n",
    "\n"
   ]
  },
  {
   "cell_type": "markdown",
   "id": "815be4b3",
   "metadata": {
    "papermill": {
     "duration": 0.006031,
     "end_time": "2022-11-15T19:33:50.537910",
     "exception": false,
     "start_time": "2022-11-15T19:33:50.531879",
     "status": "completed"
    },
    "tags": []
   },
   "source": [
    "***RESCALING***"
   ]
  },
  {
   "cell_type": "code",
   "execution_count": 8,
   "id": "037b53a9",
   "metadata": {
    "execution": {
     "iopub.execute_input": "2022-11-15T19:33:50.551031Z",
     "iopub.status.busy": "2022-11-15T19:33:50.550725Z",
     "iopub.status.idle": "2022-11-15T19:33:50.901320Z",
     "shell.execute_reply": "2022-11-15T19:33:50.900399Z"
    },
    "papermill": {
     "duration": 0.360031,
     "end_time": "2022-11-15T19:33:50.903947",
     "exception": false,
     "start_time": "2022-11-15T19:33:50.543916",
     "status": "completed"
    },
    "tags": []
   },
   "outputs": [],
   "source": [
    "data_augmentation = genAugmLayer(89)\n",
    "training_set = training_set.concatenate(training_set.map(lambda x , y : (data_augmentation(x), y)) ) #total augm\n",
    "training_set = training_set.concatenate(dataAugmImbal)\n",
    "#training_set = training_set.concatenate(imbalClasses) #OVERSAMPLING classes 1 and 6 "
   ]
  },
  {
   "cell_type": "code",
   "execution_count": 9,
   "id": "4c9dc301",
   "metadata": {
    "execution": {
     "iopub.execute_input": "2022-11-15T19:33:50.917972Z",
     "iopub.status.busy": "2022-11-15T19:33:50.917664Z",
     "iopub.status.idle": "2022-11-15T19:33:50.925634Z",
     "shell.execute_reply": "2022-11-15T19:33:50.924778Z"
    },
    "papermill": {
     "duration": 0.017537,
     "end_time": "2022-11-15T19:33:50.927615",
     "exception": false,
     "start_time": "2022-11-15T19:33:50.910078",
     "status": "completed"
    },
    "tags": []
   },
   "outputs": [],
   "source": [
    "AUTOTUNE = tf.data.AUTOTUNE\n",
    "training_set = training_set.cache().shuffle(1000).prefetch(buffer_size=AUTOTUNE)\n",
    "validation_set = validation_set.cache().prefetch(buffer_size=AUTOTUNE)"
   ]
  },
  {
   "cell_type": "markdown",
   "id": "d9fc171b",
   "metadata": {
    "id": "kprNnVJ7I9HU",
    "papermill": {
     "duration": 0.006097,
     "end_time": "2022-11-15T19:33:50.940060",
     "exception": false,
     "start_time": "2022-11-15T19:33:50.933963",
     "status": "completed"
    },
    "tags": []
   },
   "source": [
    "# **Transfer Learning**"
   ]
  },
  {
   "cell_type": "code",
   "execution_count": 10,
   "id": "cca6434c",
   "metadata": {
    "execution": {
     "iopub.execute_input": "2022-11-15T19:33:50.953629Z",
     "iopub.status.busy": "2022-11-15T19:33:50.953367Z",
     "iopub.status.idle": "2022-11-15T19:33:50.957888Z",
     "shell.execute_reply": "2022-11-15T19:33:50.956867Z"
    },
    "id": "7YcxBMJhl4EM",
    "papermill": {
     "duration": 0.01406,
     "end_time": "2022-11-15T19:33:50.960201",
     "exception": false,
     "start_time": "2022-11-15T19:33:50.946141",
     "status": "completed"
    },
    "tags": []
   },
   "outputs": [],
   "source": [
    "initial_time = datetime.datetime.now()\n",
    "input_shape = (96, 96, 3)\n",
    "epochs = 90 #to be defined "
   ]
  },
  {
   "cell_type": "code",
   "execution_count": 11,
   "id": "66be2f36",
   "metadata": {
    "execution": {
     "iopub.execute_input": "2022-11-15T19:33:50.974363Z",
     "iopub.status.busy": "2022-11-15T19:33:50.974087Z",
     "iopub.status.idle": "2022-11-15T19:33:51.019627Z",
     "shell.execute_reply": "2022-11-15T19:33:51.018830Z"
    },
    "papermill": {
     "duration": 0.055245,
     "end_time": "2022-11-15T19:33:51.021650",
     "exception": false,
     "start_time": "2022-11-15T19:33:50.966405",
     "status": "completed"
    },
    "tags": []
   },
   "outputs": [],
   "source": [
    "training_set = training_set.map(lambda x,y: (tf.keras.applications.inception_v3.preprocess_input(x), y))\n",
    "validation_set = validation_set.map(lambda x,y: (tf.keras.applications.inception_v3.preprocess_input(x),y))"
   ]
  },
  {
   "cell_type": "code",
   "execution_count": 12,
   "id": "66447b55",
   "metadata": {
    "execution": {
     "iopub.execute_input": "2022-11-15T19:33:51.035524Z",
     "iopub.status.busy": "2022-11-15T19:33:51.035255Z",
     "iopub.status.idle": "2022-11-15T19:33:57.542740Z",
     "shell.execute_reply": "2022-11-15T19:33:57.541752Z"
    },
    "papermill": {
     "duration": 6.517458,
     "end_time": "2022-11-15T19:33:57.545320",
     "exception": false,
     "start_time": "2022-11-15T19:33:51.027862",
     "status": "completed"
    },
    "tags": []
   },
   "outputs": [
    {
     "name": "stdout",
     "output_type": "stream",
     "text": [
      "Downloading data from https://storage.googleapis.com/tensorflow/keras-applications/inception_v3/inception_v3_weights_tf_dim_ordering_tf_kernels_notop.h5\n",
      "87916544/87910968 [==============================] - 1s 0us/step\n",
      "87924736/87910968 [==============================] - 1s 0us/step\n"
     ]
    }
   ],
   "source": [
    "#ARCHITECTURE\n",
    "with mirrored_strategy.scope():\n",
    "    supernet = tf.keras.applications.inception_v3.InceptionV3( include_top=False, weights='imagenet')\n",
    "    supernet.trainable = True\n",
    "    input_layer = tfkl.Input(input_shape)\n",
    "    x = tfkl.Resizing(height = 299, width = 299, interpolation = 'bicubic' )(input_layer)\n",
    "    x = supernet(x)\n",
    "    x = tfkl.GlobalAveragePooling2D()(x) \n",
    "    x = tfkl.Dropout(rate=0.3)(x)\n",
    "    x = tfkl.Dense(units=128, name='Dense3', kernel_initializer=tfk.initializers.HeUniform(seed),  activation='relu')(x)\n",
    "    x = tfkl.Dropout(rate=0.3)(x)\n",
    "    output_layer = tfkl.Dense(units=8, activation='softmax', kernel_initializer=tfk.initializers.GlorotUniform(seed), name='output_layer')(x)\n",
    "        \n",
    "    model = tfk.Model(inputs=input_layer, outputs=output_layer, name='model')\n",
    "    model.compile(loss=tfk.losses.CategoricalCrossentropy(), optimizer=tf.keras.optimizers.Adam(), metrics='accuracy')"
   ]
  },
  {
   "cell_type": "code",
   "execution_count": 13,
   "id": "4e1da02f",
   "metadata": {
    "execution": {
     "iopub.execute_input": "2022-11-15T19:33:57.561836Z",
     "iopub.status.busy": "2022-11-15T19:33:57.561535Z",
     "iopub.status.idle": "2022-11-15T19:33:57.567497Z",
     "shell.execute_reply": "2022-11-15T19:33:57.566555Z"
    },
    "id": "6qbixQiprQl_",
    "papermill": {
     "duration": 0.01693,
     "end_time": "2022-11-15T19:33:57.569636",
     "exception": false,
     "start_time": "2022-11-15T19:33:57.552706",
     "status": "completed"
    },
    "tags": []
   },
   "outputs": [],
   "source": [
    "from datetime import datetime\n",
    "def create_folders_and_callbacks(model_name):\n",
    "    '''\n",
    "    exps_dir = os.path.join('experiments')\n",
    "    if not os.path.exists(exps_dir):\n",
    "        os.makedirs(exps_dir)\n",
    "    now = datetime.now().strftime('%b%d_%H-%M-%S')\n",
    "    exp_dir = os.path.join(exps_dir, model_name + '_' + str(now))\n",
    "    if not os.path.exists(exp_dir):\n",
    "        os.makedirs(exp_dir)\n",
    "    '''\n",
    "    callbacks = []\n",
    "    \n",
    "    '''\n",
    "    # Model checkpoint\n",
    "      # ----------------\n",
    "    ckpt_dir = os.path.join(exp_dir, 'ckpts')\n",
    "    if not os.path.exists(ckpt_dir):\n",
    "        os.makedirs(ckpt_dir)\n",
    "          \n",
    "    ckpt_callback = tf.keras.callbacks.ModelCheckpoint(filepath=os.path.join(ckpt_dir, 'cp.ckpt'), save_weights_only=True, save_best_only=True) #play here \n",
    "      \n",
    "    callbacks.append(ckpt_callback)\n",
    "    '''\n",
    "    # Early Stopping\n",
    "    # --------------\n",
    "    es_callback = tf.keras.callbacks.EarlyStopping(monitor='val_accuracy', patience=20, restore_best_weights=True) #tuning point\n",
    "    callbacks.append(es_callback)\n",
    "    return callbacks"
   ]
  },
  {
   "cell_type": "code",
   "execution_count": 14,
   "id": "a1d25a38",
   "metadata": {
    "execution": {
     "iopub.execute_input": "2022-11-15T19:33:57.584781Z",
     "iopub.status.busy": "2022-11-15T19:33:57.584518Z",
     "iopub.status.idle": "2022-11-15T19:33:57.604765Z",
     "shell.execute_reply": "2022-11-15T19:33:57.603693Z"
    },
    "id": "NwsjIp_crOKq",
    "outputId": "32ffd07a-e461-464f-c4fa-a6bcbc307cbf",
    "papermill": {
     "duration": 0.030304,
     "end_time": "2022-11-15T19:33:57.607135",
     "exception": false,
     "start_time": "2022-11-15T19:33:57.576831",
     "status": "completed"
    },
    "tags": []
   },
   "outputs": [
    {
     "name": "stdout",
     "output_type": "stream",
     "text": [
      "Model: \"model\"\n",
      "_________________________________________________________________\n",
      "Layer (type)                 Output Shape              Param #   \n",
      "=================================================================\n",
      "input_2 (InputLayer)         [(None, 96, 96, 3)]       0         \n",
      "_________________________________________________________________\n",
      "resizing (Resizing)          (None, 299, 299, 3)       0         \n",
      "_________________________________________________________________\n",
      "inception_v3 (Functional)    (None, None, None, 2048)  21802784  \n",
      "_________________________________________________________________\n",
      "global_average_pooling2d (Gl (None, 2048)              0         \n",
      "_________________________________________________________________\n",
      "dropout (Dropout)            (None, 2048)              0         \n",
      "_________________________________________________________________\n",
      "Dense3 (Dense)               (None, 128)               262272    \n",
      "_________________________________________________________________\n",
      "dropout_1 (Dropout)          (None, 128)               0         \n",
      "_________________________________________________________________\n",
      "output_layer (Dense)         (None, 8)                 1032      \n",
      "=================================================================\n",
      "Total params: 22,066,088\n",
      "Trainable params: 22,031,656\n",
      "Non-trainable params: 34,432\n",
      "_________________________________________________________________\n"
     ]
    }
   ],
   "source": [
    "model.summary()"
   ]
  },
  {
   "cell_type": "code",
   "execution_count": 15,
   "id": "301c004d",
   "metadata": {
    "execution": {
     "iopub.execute_input": "2022-11-15T19:33:57.622507Z",
     "iopub.status.busy": "2022-11-15T19:33:57.622228Z",
     "iopub.status.idle": "2022-11-15T19:33:57.626028Z",
     "shell.execute_reply": "2022-11-15T19:33:57.625061Z"
    },
    "papermill": {
     "duration": 0.013742,
     "end_time": "2022-11-15T19:33:57.628166",
     "exception": false,
     "start_time": "2022-11-15T19:33:57.614424",
     "status": "completed"
    },
    "tags": []
   },
   "outputs": [],
   "source": [
    "#WEIGHTS RESTORING WHEN CRASHES \n",
    "#model.restore(\"./experiments/myModel_TESTING_Nov14_10-17-04\")"
   ]
  },
  {
   "cell_type": "code",
   "execution_count": 16,
   "id": "03793699",
   "metadata": {
    "execution": {
     "iopub.execute_input": "2022-11-15T19:33:57.643614Z",
     "iopub.status.busy": "2022-11-15T19:33:57.643359Z",
     "iopub.status.idle": "2022-11-15T19:33:57.672537Z",
     "shell.execute_reply": "2022-11-15T19:33:57.671413Z"
    },
    "papermill": {
     "duration": 0.039085,
     "end_time": "2022-11-15T19:33:57.674526",
     "exception": false,
     "start_time": "2022-11-15T19:33:57.635441",
     "status": "completed"
    },
    "tags": []
   },
   "outputs": [
    {
     "name": "stdout",
     "output_type": "stream",
     "text": [
      "Model: \"model\"\n",
      "_________________________________________________________________\n",
      "Layer (type)                 Output Shape              Param #   \n",
      "=================================================================\n",
      "input_2 (InputLayer)         [(None, 96, 96, 3)]       0         \n",
      "_________________________________________________________________\n",
      "resizing (Resizing)          (None, 299, 299, 3)       0         \n",
      "_________________________________________________________________\n",
      "inception_v3 (Functional)    (None, None, None, 2048)  21802784  \n",
      "_________________________________________________________________\n",
      "global_average_pooling2d (Gl (None, 2048)              0         \n",
      "_________________________________________________________________\n",
      "dropout (Dropout)            (None, 2048)              0         \n",
      "_________________________________________________________________\n",
      "Dense3 (Dense)               (None, 128)               262272    \n",
      "_________________________________________________________________\n",
      "dropout_1 (Dropout)          (None, 128)               0         \n",
      "_________________________________________________________________\n",
      "output_layer (Dense)         (None, 8)                 1032      \n",
      "=================================================================\n",
      "Total params: 22,066,088\n",
      "Trainable params: 830,264\n",
      "Non-trainable params: 21,235,824\n",
      "_________________________________________________________________\n"
     ]
    }
   ],
   "source": [
    "\n",
    "for i, layer in enumerate(model.get_layer('inception_v3').layers[:-1]):\n",
    "    layer.trainable=False\n",
    "\n",
    "for i, layer in enumerate(model.get_layer('inception_v3').layers[:15]):\n",
    "    layer.trainable=True\n",
    "    \n",
    "for i, layer in enumerate(model.get_layer('inception_v3').layers[-15:-1]):\n",
    "    layer.trainable = True\n",
    "\n",
    "model.summary()"
   ]
  },
  {
   "cell_type": "code",
   "execution_count": 17,
   "id": "787b9817",
   "metadata": {
    "execution": {
     "iopub.execute_input": "2022-11-15T19:33:57.690408Z",
     "iopub.status.busy": "2022-11-15T19:33:57.689242Z",
     "iopub.status.idle": "2022-11-15T22:03:41.732294Z",
     "shell.execute_reply": "2022-11-15T22:03:41.731210Z"
    },
    "id": "pXAHAuoSz-_S",
    "outputId": "05f554a5-f149-41ae-c9ac-68221b6f2345",
    "papermill": {
     "duration": 8984.496277,
     "end_time": "2022-11-15T22:03:42.177501",
     "exception": false,
     "start_time": "2022-11-15T19:33:57.681224",
     "status": "completed"
    },
    "tags": []
   },
   "outputs": [
    {
     "name": "stderr",
     "output_type": "stream",
     "text": [
      "2022-11-15 19:33:57.783018: W tensorflow/core/grappler/optimizers/data/auto_shard.cc:695] AUTO sharding policy will apply DATA sharding policy as it failed to apply FILE sharding policy because of the following reason: Found an unshardable source dataset: name: \"TensorSliceDataset/_1\"\n",
      "op: \"TensorSliceDataset\"\n",
      "input: \"Placeholder/_0\"\n",
      "attr {\n",
      "  key: \"Toutput_types\"\n",
      "  value {\n",
      "    list {\n",
      "      type: DT_STRING\n",
      "    }\n",
      "  }\n",
      "}\n",
      "attr {\n",
      "  key: \"output_shapes\"\n",
      "  value {\n",
      "    list {\n",
      "      shape {\n",
      "      }\n",
      "    }\n",
      "  }\n",
      "}\n",
      "\n"
     ]
    },
    {
     "name": "stdout",
     "output_type": "stream",
     "text": [
      "Epoch 1/90\n"
     ]
    },
    {
     "name": "stderr",
     "output_type": "stream",
     "text": [
      "2022-11-15 19:34:56.152733: I tensorflow/core/kernels/data/shuffle_dataset_op.cc:175] Filling up shuffle buffer (this may take a while): 197 of 1000\n",
      "2022-11-15 19:34:56.293514: I tensorflow/core/kernels/data/shuffle_dataset_op.cc:228] Shuffle buffer filled.\n",
      "2022-11-15 19:34:57.719358: I tensorflow/stream_executor/cuda/cuda_dnn.cc:369] Loaded cuDNN version 8005\n",
      "2022-11-15 19:34:58.150625: I tensorflow/stream_executor/cuda/cuda_dnn.cc:369] Loaded cuDNN version 8005\n"
     ]
    },
    {
     "name": "stdout",
     "output_type": "stream",
     "text": [
      "200/200 [==============================] - ETA: 0s - loss: 1.5953 - accuracy: 0.4090"
     ]
    },
    {
     "name": "stderr",
     "output_type": "stream",
     "text": [
      "2022-11-15 19:36:50.706215: W tensorflow/core/grappler/optimizers/data/auto_shard.cc:695] AUTO sharding policy will apply DATA sharding policy as it failed to apply FILE sharding policy because of the following reason: Found an unshardable source dataset: name: \"TensorSliceDataset/_1\"\n",
      "op: \"TensorSliceDataset\"\n",
      "input: \"Placeholder/_0\"\n",
      "attr {\n",
      "  key: \"Toutput_types\"\n",
      "  value {\n",
      "    list {\n",
      "      type: DT_STRING\n",
      "    }\n",
      "  }\n",
      "}\n",
      "attr {\n",
      "  key: \"output_shapes\"\n",
      "  value {\n",
      "    list {\n",
      "      shape {\n",
      "      }\n",
      "    }\n",
      "  }\n",
      "}\n",
      "\n"
     ]
    },
    {
     "name": "stdout",
     "output_type": "stream",
     "text": [
      "200/200 [==============================] - 182s 552ms/step - loss: 1.5953 - accuracy: 0.4090 - val_loss: 4.3521 - val_accuracy: 0.2415\n",
      "Epoch 2/90\n",
      "200/200 [==============================] - 99s 492ms/step - loss: 1.3395 - accuracy: 0.5190 - val_loss: 4.1505 - val_accuracy: 0.3517\n",
      "Epoch 3/90\n",
      "200/200 [==============================] - 99s 493ms/step - loss: 1.1323 - accuracy: 0.6008 - val_loss: 2.0894 - val_accuracy: 0.4831\n",
      "Epoch 4/90\n",
      "200/200 [==============================] - 98s 489ms/step - loss: 0.9529 - accuracy: 0.6691 - val_loss: 5.9032 - val_accuracy: 0.1723\n",
      "Epoch 5/90\n",
      "200/200 [==============================] - 98s 488ms/step - loss: 0.8225 - accuracy: 0.7187 - val_loss: 3.6163 - val_accuracy: 0.3616\n",
      "Epoch 6/90\n",
      "200/200 [==============================] - 97s 487ms/step - loss: 0.7084 - accuracy: 0.7541 - val_loss: 2.4174 - val_accuracy: 0.3489\n",
      "Epoch 7/90\n",
      "200/200 [==============================] - 99s 493ms/step - loss: 0.6095 - accuracy: 0.7858 - val_loss: 2.1719 - val_accuracy: 0.5254\n",
      "Epoch 8/90\n",
      "200/200 [==============================] - 98s 490ms/step - loss: 0.5100 - accuracy: 0.8249 - val_loss: 1.4441 - val_accuracy: 0.5862\n",
      "Epoch 9/90\n",
      "200/200 [==============================] - 97s 487ms/step - loss: 0.4451 - accuracy: 0.8468 - val_loss: 2.2650 - val_accuracy: 0.4944\n",
      "Epoch 10/90\n",
      "200/200 [==============================] - 98s 490ms/step - loss: 0.3935 - accuracy: 0.8669 - val_loss: 1.1774 - val_accuracy: 0.6766\n",
      "Epoch 11/90\n",
      "200/200 [==============================] - 98s 491ms/step - loss: 0.2814 - accuracy: 0.9095 - val_loss: 2.3018 - val_accuracy: 0.6398\n",
      "Epoch 12/90\n",
      "200/200 [==============================] - 98s 488ms/step - loss: 0.2878 - accuracy: 0.8989 - val_loss: 1.5279 - val_accuracy: 0.5706\n",
      "Epoch 13/90\n",
      "200/200 [==============================] - 98s 488ms/step - loss: 0.2647 - accuracy: 0.9086 - val_loss: 1.4807 - val_accuracy: 0.7006\n",
      "Epoch 14/90\n",
      "200/200 [==============================] - 98s 488ms/step - loss: 0.1941 - accuracy: 0.9365 - val_loss: 2.0944 - val_accuracy: 0.5621\n",
      "Epoch 15/90\n",
      "200/200 [==============================] - 97s 487ms/step - loss: 0.2016 - accuracy: 0.9334 - val_loss: 1.5612 - val_accuracy: 0.6398\n",
      "Epoch 16/90\n",
      "200/200 [==============================] - 97s 486ms/step - loss: 0.1983 - accuracy: 0.9367 - val_loss: 4.1282 - val_accuracy: 0.4619\n",
      "Epoch 17/90\n",
      "200/200 [==============================] - 97s 485ms/step - loss: 0.1645 - accuracy: 0.9480 - val_loss: 1.3855 - val_accuracy: 0.6907\n",
      "Epoch 18/90\n",
      "200/200 [==============================] - 97s 486ms/step - loss: 0.1208 - accuracy: 0.9604 - val_loss: 1.7784 - val_accuracy: 0.6455\n",
      "Epoch 19/90\n",
      "200/200 [==============================] - 100s 498ms/step - loss: 0.1176 - accuracy: 0.9611 - val_loss: 1.1471 - val_accuracy: 0.7486\n",
      "Epoch 20/90\n",
      "200/200 [==============================] - 99s 494ms/step - loss: 0.1742 - accuracy: 0.9452 - val_loss: 3.6301 - val_accuracy: 0.4280\n",
      "Epoch 21/90\n",
      "200/200 [==============================] - 98s 491ms/step - loss: 0.1074 - accuracy: 0.9654 - val_loss: 2.7621 - val_accuracy: 0.5452\n",
      "Epoch 22/90\n",
      "200/200 [==============================] - 99s 494ms/step - loss: 0.1297 - accuracy: 0.9593 - val_loss: 3.0132 - val_accuracy: 0.4972\n",
      "Epoch 23/90\n",
      "200/200 [==============================] - 99s 495ms/step - loss: 0.1152 - accuracy: 0.9632 - val_loss: 1.4869 - val_accuracy: 0.7189\n",
      "Epoch 24/90\n",
      "200/200 [==============================] - 98s 491ms/step - loss: 0.1070 - accuracy: 0.9657 - val_loss: 2.3717 - val_accuracy: 0.6271\n",
      "Epoch 25/90\n",
      "200/200 [==============================] - 99s 492ms/step - loss: 0.0823 - accuracy: 0.9728 - val_loss: 1.3381 - val_accuracy: 0.6638\n",
      "Epoch 26/90\n",
      "200/200 [==============================] - 99s 492ms/step - loss: 0.1349 - accuracy: 0.9578 - val_loss: 1.6648 - val_accuracy: 0.6554\n",
      "Epoch 27/90\n",
      "200/200 [==============================] - 98s 491ms/step - loss: 0.1030 - accuracy: 0.9686 - val_loss: 5.7785 - val_accuracy: 0.4661\n",
      "Epoch 28/90\n",
      "200/200 [==============================] - 98s 491ms/step - loss: 0.0686 - accuracy: 0.9793 - val_loss: 2.5009 - val_accuracy: 0.5650\n",
      "Epoch 29/90\n",
      "200/200 [==============================] - 98s 491ms/step - loss: 0.0878 - accuracy: 0.9730 - val_loss: 1.4240 - val_accuracy: 0.7232\n",
      "Epoch 30/90\n",
      "200/200 [==============================] - 99s 495ms/step - loss: 0.0887 - accuracy: 0.9725 - val_loss: 2.5752 - val_accuracy: 0.5763\n",
      "Epoch 31/90\n",
      "200/200 [==============================] - 98s 491ms/step - loss: 0.0615 - accuracy: 0.9801 - val_loss: 1.8706 - val_accuracy: 0.7062\n",
      "Epoch 32/90\n",
      "200/200 [==============================] - 99s 493ms/step - loss: 0.0630 - accuracy: 0.9806 - val_loss: 1.6128 - val_accuracy: 0.7359\n",
      "Epoch 33/90\n",
      "200/200 [==============================] - 99s 496ms/step - loss: 0.1195 - accuracy: 0.9626 - val_loss: 1.8123 - val_accuracy: 0.6596\n",
      "Epoch 34/90\n",
      "200/200 [==============================] - 98s 493ms/step - loss: 0.0729 - accuracy: 0.9788 - val_loss: 1.7514 - val_accuracy: 0.6653\n",
      "Epoch 35/90\n",
      "200/200 [==============================] - 99s 493ms/step - loss: 0.0664 - accuracy: 0.9780 - val_loss: 2.1919 - val_accuracy: 0.6554\n",
      "Epoch 36/90\n",
      "200/200 [==============================] - 99s 495ms/step - loss: 0.0738 - accuracy: 0.9771 - val_loss: 1.2095 - val_accuracy: 0.7910\n",
      "Epoch 37/90\n",
      "200/200 [==============================] - 99s 494ms/step - loss: 0.1148 - accuracy: 0.9621 - val_loss: 1.4129 - val_accuracy: 0.7316\n",
      "Epoch 38/90\n",
      "200/200 [==============================] - 98s 490ms/step - loss: 0.0454 - accuracy: 0.9853 - val_loss: 2.5906 - val_accuracy: 0.6907\n",
      "Epoch 39/90\n",
      "200/200 [==============================] - 99s 494ms/step - loss: 0.1499 - accuracy: 0.9550 - val_loss: 1.5471 - val_accuracy: 0.6864\n",
      "Epoch 40/90\n",
      "200/200 [==============================] - 99s 493ms/step - loss: 0.0510 - accuracy: 0.9855 - val_loss: 1.3548 - val_accuracy: 0.7514\n",
      "Epoch 41/90\n",
      "200/200 [==============================] - 98s 492ms/step - loss: 0.0451 - accuracy: 0.9859 - val_loss: 2.1206 - val_accuracy: 0.7020\n",
      "Epoch 42/90\n",
      "200/200 [==============================] - 99s 495ms/step - loss: 0.0215 - accuracy: 0.9938 - val_loss: 1.3696 - val_accuracy: 0.7740\n",
      "Epoch 43/90\n",
      "200/200 [==============================] - 99s 495ms/step - loss: 0.0425 - accuracy: 0.9877 - val_loss: 1.4346 - val_accuracy: 0.7232\n",
      "Epoch 44/90\n",
      "200/200 [==============================] - 98s 491ms/step - loss: 0.1406 - accuracy: 0.9623 - val_loss: 2.2034 - val_accuracy: 0.5254\n",
      "Epoch 45/90\n",
      "200/200 [==============================] - 98s 492ms/step - loss: 0.0976 - accuracy: 0.9684 - val_loss: 3.5143 - val_accuracy: 0.5480\n",
      "Epoch 46/90\n",
      "200/200 [==============================] - 98s 492ms/step - loss: 0.0486 - accuracy: 0.9844 - val_loss: 2.1000 - val_accuracy: 0.6624\n",
      "Epoch 47/90\n",
      "200/200 [==============================] - 99s 494ms/step - loss: 0.0380 - accuracy: 0.9886 - val_loss: 2.2163 - val_accuracy: 0.6624\n",
      "Epoch 48/90\n",
      "200/200 [==============================] - 99s 493ms/step - loss: 0.0420 - accuracy: 0.9886 - val_loss: 1.7194 - val_accuracy: 0.6723\n",
      "Epoch 49/90\n",
      "200/200 [==============================] - 98s 491ms/step - loss: 0.0491 - accuracy: 0.9861 - val_loss: 1.8914 - val_accuracy: 0.6695\n",
      "Epoch 50/90\n",
      "200/200 [==============================] - 98s 492ms/step - loss: 0.0394 - accuracy: 0.9875 - val_loss: 2.4771 - val_accuracy: 0.6836\n",
      "Epoch 51/90\n",
      "200/200 [==============================] - 99s 495ms/step - loss: 0.0391 - accuracy: 0.9875 - val_loss: 1.6255 - val_accuracy: 0.7542\n",
      "Epoch 52/90\n",
      "200/200 [==============================] - 99s 493ms/step - loss: 0.0922 - accuracy: 0.9705 - val_loss: 8.2242 - val_accuracy: 0.3545\n",
      "Epoch 53/90\n",
      "200/200 [==============================] - 98s 491ms/step - loss: 0.0829 - accuracy: 0.9760 - val_loss: 1.7547 - val_accuracy: 0.7189\n",
      "Epoch 54/90\n",
      "200/200 [==============================] - 98s 491ms/step - loss: 0.0279 - accuracy: 0.9912 - val_loss: 1.2422 - val_accuracy: 0.8206\n",
      "Epoch 55/90\n",
      "200/200 [==============================] - 99s 495ms/step - loss: 0.0266 - accuracy: 0.9912 - val_loss: 2.7870 - val_accuracy: 0.6017\n",
      "Epoch 56/90\n",
      "200/200 [==============================] - 99s 495ms/step - loss: 0.0320 - accuracy: 0.9918 - val_loss: 1.8396 - val_accuracy: 0.7331\n",
      "Epoch 57/90\n",
      "200/200 [==============================] - 99s 493ms/step - loss: 0.0507 - accuracy: 0.9848 - val_loss: 2.0835 - val_accuracy: 0.6893\n",
      "Epoch 58/90\n",
      "200/200 [==============================] - 98s 492ms/step - loss: 0.1153 - accuracy: 0.9653 - val_loss: 2.8547 - val_accuracy: 0.5466\n",
      "Epoch 59/90\n",
      "200/200 [==============================] - 98s 491ms/step - loss: 0.0413 - accuracy: 0.9874 - val_loss: 1.7338 - val_accuracy: 0.7161\n",
      "Epoch 60/90\n",
      "200/200 [==============================] - 98s 492ms/step - loss: 0.0450 - accuracy: 0.9863 - val_loss: 2.3029 - val_accuracy: 0.7006\n",
      "Epoch 61/90\n",
      "200/200 [==============================] - 98s 491ms/step - loss: 0.0558 - accuracy: 0.9828 - val_loss: 2.3287 - val_accuracy: 0.6879\n",
      "Epoch 62/90\n",
      "200/200 [==============================] - 98s 490ms/step - loss: 0.0388 - accuracy: 0.9886 - val_loss: 4.0512 - val_accuracy: 0.5621\n",
      "Epoch 63/90\n",
      "200/200 [==============================] - 99s 495ms/step - loss: 0.0251 - accuracy: 0.9913 - val_loss: 1.3445 - val_accuracy: 0.7585\n",
      "Epoch 64/90\n",
      "200/200 [==============================] - 99s 494ms/step - loss: 0.0089 - accuracy: 0.9984 - val_loss: 4.7664 - val_accuracy: 0.6088\n",
      "Epoch 65/90\n",
      "200/200 [==============================] - 99s 494ms/step - loss: 0.0931 - accuracy: 0.9698 - val_loss: 1.7156 - val_accuracy: 0.6850\n",
      "Epoch 66/90\n",
      "200/200 [==============================] - 99s 494ms/step - loss: 0.0654 - accuracy: 0.9806 - val_loss: 1.4097 - val_accuracy: 0.7726\n",
      "Epoch 67/90\n",
      "200/200 [==============================] - 99s 493ms/step - loss: 0.0045 - accuracy: 0.9992 - val_loss: 1.1343 - val_accuracy: 0.8291\n",
      "Epoch 68/90\n",
      "200/200 [==============================] - 99s 493ms/step - loss: 0.0369 - accuracy: 0.9896 - val_loss: 2.2210 - val_accuracy: 0.7161\n",
      "Epoch 69/90\n",
      "200/200 [==============================] - 99s 495ms/step - loss: 0.0447 - accuracy: 0.9875 - val_loss: 1.5998 - val_accuracy: 0.7444\n",
      "Epoch 70/90\n",
      "200/200 [==============================] - 99s 495ms/step - loss: 0.0406 - accuracy: 0.9891 - val_loss: 1.3930 - val_accuracy: 0.7698\n",
      "Epoch 71/90\n",
      "200/200 [==============================] - 98s 491ms/step - loss: 0.0550 - accuracy: 0.9828 - val_loss: 1.6596 - val_accuracy: 0.7274\n",
      "Epoch 72/90\n",
      "200/200 [==============================] - 99s 496ms/step - loss: 0.0251 - accuracy: 0.9919 - val_loss: 1.5620 - val_accuracy: 0.7571\n",
      "Epoch 73/90\n",
      "200/200 [==============================] - 98s 492ms/step - loss: 0.0150 - accuracy: 0.9951 - val_loss: 2.6941 - val_accuracy: 0.6540\n",
      "Epoch 74/90\n",
      "200/200 [==============================] - 99s 493ms/step - loss: 0.0704 - accuracy: 0.9799 - val_loss: 2.4403 - val_accuracy: 0.6568\n",
      "Epoch 75/90\n",
      "200/200 [==============================] - 99s 493ms/step - loss: 0.0413 - accuracy: 0.9866 - val_loss: 1.6378 - val_accuracy: 0.7274\n",
      "Epoch 76/90\n",
      "200/200 [==============================] - 98s 491ms/step - loss: 0.0407 - accuracy: 0.9888 - val_loss: 5.9630 - val_accuracy: 0.4590\n",
      "Epoch 77/90\n",
      "200/200 [==============================] - 98s 491ms/step - loss: 0.0354 - accuracy: 0.9888 - val_loss: 1.9166 - val_accuracy: 0.6723\n",
      "Epoch 78/90\n",
      "200/200 [==============================] - 99s 495ms/step - loss: 0.0252 - accuracy: 0.9924 - val_loss: 1.8299 - val_accuracy: 0.7105\n",
      "Epoch 79/90\n",
      "200/200 [==============================] - 99s 495ms/step - loss: 0.0289 - accuracy: 0.9915 - val_loss: 2.1137 - val_accuracy: 0.6935\n",
      "Epoch 80/90\n",
      "200/200 [==============================] - 99s 494ms/step - loss: 0.0280 - accuracy: 0.9912 - val_loss: 1.7855 - val_accuracy: 0.7613\n",
      "Epoch 81/90\n",
      "200/200 [==============================] - 99s 494ms/step - loss: 0.0266 - accuracy: 0.9924 - val_loss: 2.0431 - val_accuracy: 0.7316\n",
      "Epoch 82/90\n",
      "200/200 [==============================] - 99s 495ms/step - loss: 0.1202 - accuracy: 0.9673 - val_loss: 1.4575 - val_accuracy: 0.7726\n",
      "Epoch 83/90\n",
      "200/200 [==============================] - 99s 494ms/step - loss: 0.0111 - accuracy: 0.9961 - val_loss: 1.4713 - val_accuracy: 0.7712\n",
      "Epoch 84/90\n",
      "200/200 [==============================] - 99s 496ms/step - loss: 0.0041 - accuracy: 0.9989 - val_loss: 1.5575 - val_accuracy: 0.7712\n",
      "Epoch 85/90\n",
      "200/200 [==============================] - 99s 494ms/step - loss: 0.0560 - accuracy: 0.9844 - val_loss: 1.6511 - val_accuracy: 0.7288\n",
      "Epoch 86/90\n",
      "200/200 [==============================] - 99s 494ms/step - loss: 0.0411 - accuracy: 0.9880 - val_loss: 2.4652 - val_accuracy: 0.6384\n",
      "Epoch 87/90\n",
      "200/200 [==============================] - 99s 493ms/step - loss: 0.0198 - accuracy: 0.9946 - val_loss: 1.4539 - val_accuracy: 0.7684\n"
     ]
    }
   ],
   "source": [
    "callbacks = create_folders_and_callbacks(model_name='myModel_TESTING')\n",
    "\n",
    "history = model.fit(\n",
    "    x = training_set,\n",
    "    epochs = epochs,\n",
    "    validation_data = validation_set, \n",
    "    callbacks = callbacks,\n",
    "    batch_size = 256\n",
    "    #,class_weight = weights \n",
    ").history"
   ]
  },
  {
   "cell_type": "code",
   "execution_count": 18,
   "id": "70c26b79",
   "metadata": {
    "execution": {
     "iopub.execute_input": "2022-11-15T22:03:44.239692Z",
     "iopub.status.busy": "2022-11-15T22:03:44.239341Z",
     "iopub.status.idle": "2022-11-15T22:03:44.244939Z",
     "shell.execute_reply": "2022-11-15T22:03:44.243762Z"
    },
    "id": "7YDDlgkUWMpO",
    "papermill": {
     "duration": 1.041885,
     "end_time": "2022-11-15T22:03:44.247801",
     "exception": false,
     "start_time": "2022-11-15T22:03:43.205916",
     "status": "completed"
    },
    "tags": []
   },
   "outputs": [
    {
     "name": "stdout",
     "output_type": "stream",
     "text": [
      "Training took 2:29:53.286156\n"
     ]
    }
   ],
   "source": [
    "final_time = datetime.now()\n",
    "print(\"Training took %s\" % (final_time - initial_time))\n"
   ]
  },
  {
   "cell_type": "code",
   "execution_count": 19,
   "id": "439150ee",
   "metadata": {
    "execution": {
     "iopub.execute_input": "2022-11-15T22:03:46.557895Z",
     "iopub.status.busy": "2022-11-15T22:03:46.557489Z",
     "iopub.status.idle": "2022-11-15T22:03:47.149529Z",
     "shell.execute_reply": "2022-11-15T22:03:47.148546Z"
    },
    "id": "3fziDMO1NTG2",
    "papermill": {
     "duration": 1.92515,
     "end_time": "2022-11-15T22:03:47.151780",
     "exception": false,
     "start_time": "2022-11-15T22:03:45.226630",
     "status": "completed"
    },
    "tags": []
   },
   "outputs": [
    {
     "data": {
      "image/png": "[encoded data removed]",
      "text/plain": [
       "<Figure size 1080x360 with 1 Axes>"
      ]
     },
     "metadata": {
      "needs_background": "light"
     },
     "output_type": "display_data"
    },
    {
     "data": {
      "image/png": "[encoded data removed]",
      "text/plain": [
       "<Figure size 1080x360 with 1 Axes>"
      ]
     },
     "metadata": {
      "needs_background": "light"
     },
     "output_type": "display_data"
    }
   ],
   "source": [
    "plt.figure(figsize=(15,5))\n",
    "plt.plot(history['loss'], label='Training', alpha=.3, color='#ff7f0e', linestyle='--')\n",
    "plt.plot(history['val_loss'], label='Validation', alpha=.8, color='#ff7f0e')\n",
    "plt.legend(loc='upper left')\n",
    "plt.title('Categorical Crossentropy')\n",
    "plt.grid(alpha=.3)\n",
    "\n",
    "plt.figure(figsize=(15,5))\n",
    "plt.plot(history['accuracy'], label='Training', alpha=.8, color='#ff7f0e', linestyle='--')\n",
    "plt.plot(history['val_accuracy'], label='Validation', alpha=.8, color='#ff7f0e')\n",
    "plt.legend(loc='upper left')\n",
    "plt.title('Accuracy')\n",
    "plt.grid(alpha=.3)\n",
    "\n",
    "plt.show()"
   ]
  },
  {
   "cell_type": "code",
   "execution_count": 20,
   "id": "bde42187",
   "metadata": {
    "execution": {
     "iopub.execute_input": "2022-11-15T22:03:49.172843Z",
     "iopub.status.busy": "2022-11-15T22:03:49.172474Z",
     "iopub.status.idle": "2022-11-15T22:04:36.975088Z",
     "shell.execute_reply": "2022-11-15T22:04:36.974028Z"
    },
    "id": "IwhA2qPP0Nvg",
    "papermill": {
     "duration": 48.85976,
     "end_time": "2022-11-15T22:04:36.977935",
     "exception": false,
     "start_time": "2022-11-15T22:03:48.118175",
     "status": "completed"
    },
    "tags": []
   },
   "outputs": [
    {
     "name": "stderr",
     "output_type": "stream",
     "text": [
      "2022-11-15 22:04:06.130714: W tensorflow/python/util/util.cc:348] Sets are not currently considered sequences, but this may change in the future, so consider avoiding using them.\n"
     ]
    }
   ],
   "source": [
    "model.save(\"models/myModel\")"
   ]
  },
  {
   "cell_type": "code",
   "execution_count": 21,
   "id": "b64d1f41",
   "metadata": {
    "execution": {
     "iopub.execute_input": "2022-11-15T22:04:39.084303Z",
     "iopub.status.busy": "2022-11-15T22:04:39.083901Z",
     "iopub.status.idle": "2022-11-15T22:04:49.470133Z",
     "shell.execute_reply": "2022-11-15T22:04:49.469234Z"
    },
    "papermill": {
     "duration": 11.515662,
     "end_time": "2022-11-15T22:04:49.473392",
     "exception": false,
     "start_time": "2022-11-15T22:04:37.957730",
     "status": "completed"
    },
    "tags": []
   },
   "outputs": [
    {
     "name": "stderr",
     "output_type": "stream",
     "text": [
      "2022-11-15 22:04:39.119711: W tensorflow/core/grappler/optimizers/data/auto_shard.cc:695] AUTO sharding policy will apply DATA sharding policy as it failed to apply FILE sharding policy because of the following reason: Found an unshardable source dataset: name: \"TensorSliceDataset/_1\"\n",
      "op: \"TensorSliceDataset\"\n",
      "input: \"Placeholder/_0\"\n",
      "attr {\n",
      "  key: \"Toutput_types\"\n",
      "  value {\n",
      "    list {\n",
      "      type: DT_STRING\n",
      "    }\n",
      "  }\n",
      "}\n",
      "attr {\n",
      "  key: \"output_shapes\"\n",
      "  value {\n",
      "    list {\n",
      "      shape {\n",
      "      }\n",
      "    }\n",
      "  }\n",
      "}\n",
      "\n"
     ]
    },
    {
     "name": "stdout",
     "output_type": "stream",
     "text": [
      "23/23 [==============================] - 2s 93ms/step - loss: 1.1363 - accuracy: 0.8277\n",
      "{'loss': 1.1363028287887573, 'accuracy': 0.8276836276054382}\n"
     ]
    },
    {
     "name": "stderr",
     "output_type": "stream",
     "text": [
      "2022-11-15 22:04:41.573196: W tensorflow/core/grappler/optimizers/data/auto_shard.cc:695] AUTO sharding policy will apply DATA sharding policy as it failed to apply FILE sharding policy because of the following reason: Found an unshardable source dataset: name: \"TensorSliceDataset/_1\"\n",
      "op: \"TensorSliceDataset\"\n",
      "input: \"Placeholder/_0\"\n",
      "attr {\n",
      "  key: \"Toutput_types\"\n",
      "  value {\n",
      "    list {\n",
      "      type: DT_STRING\n",
      "    }\n",
      "  }\n",
      "}\n",
      "attr {\n",
      "  key: \"output_shapes\"\n",
      "  value {\n",
      "    list {\n",
      "      shape {\n",
      "      }\n",
      "    }\n",
      "  }\n",
      "}\n",
      "\n"
     ]
    },
    {
     "name": "stdout",
     "output_type": "stream",
     "text": [
      "Accuracy: 0.8277\n",
      "Precision: 0.8181\n",
      "Recall: 0.8016\n",
      "F1: 0.8055\n",
      "F1 (per class):\n",
      "[0.49275362 0.83870968 0.87068966 0.83937824 0.80365297 0.89411765\n",
      " 0.93684211 0.76777251]\n",
      "WORST CLASS: Species: 1\n"
     ]
    },
    {
     "data": {
      "image/png": "[encoded data removed]",
      "text/plain": [
       "<Figure size 540x540 with 1 Axes>"
      ]
     },
     "metadata": {
      "needs_background": "light"
     },
     "output_type": "display_data"
    }
   ],
   "source": [
    "#model = tf.keras.models.load_model(\"models/myModel_AUGMENTEDDATA_WEIGHTEDCLASSES\")\n",
    "metrics = model.evaluate(validation_set, return_dict=True)\n",
    "print(metrics)\n",
    "\n",
    "DATASET_EVAL = validation_set\n",
    "labels = np.concatenate([y for x, y in DATASET_EVAL], axis=0) \n",
    "predictions = model.predict(validation_set) \n",
    "\n",
    "assert len(labels) == len(predictions)\n",
    "\n",
    "# Compute the confusion matrix\n",
    "cm = confusion_matrix(np.argmax(labels, axis=-1), np.argmax(predictions, axis=-1))\n",
    "\n",
    "# Compute the classification metrics\n",
    "accuracy = accuracy_score(np.argmax(labels, axis=-1), np.argmax(predictions, axis=-1))\n",
    "precision = precision_score(np.argmax(labels, axis=-1), np.argmax(predictions, axis=-1), average='macro')\n",
    "recall = recall_score(np.argmax(labels, axis=-1), np.argmax(predictions, axis=-1), average='macro')\n",
    "f1 = f1_score(np.argmax(labels, axis=-1), np.argmax(predictions, axis=-1), average='macro')\n",
    "f1_classes = f1_score(np.argmax(labels, axis=-1), np.argmax(predictions, axis=-1), average=None)\n",
    "\n",
    "print('Accuracy:',accuracy.round(4))\n",
    "print('Precision:',precision.round(4))\n",
    "print('Recall:',recall.round(4))\n",
    "print('F1:',f1.round(4))\n",
    "print('F1 (per class):')\n",
    "print(f1_classes)\n",
    "\n",
    "print('WORST CLASS: Species:', np.argmin(f1_classes)+1)\n",
    "\n",
    "# Plot the confusion matrix\n",
    "ig, ax = plt.subplots(figsize=(7.5, 7.5))\n",
    "ax.matshow(cm, cmap=plt.cm.Blues, alpha=0.3)\n",
    "for i in range(cm.shape[0]):\n",
    "    for j in range(cm.shape[1]):\n",
    "        ax.text(x=j, y=i,s=cm[i, j], va='center', ha='center', size='xx-large')\n",
    "\n",
    "        \n",
    "plt.xlabel('Predictions', fontsize=18)\n",
    "plt.ylabel('Actuals', fontsize=18)\n",
    "plt.title('Confusion Matrix', fontsize=18)\n",
    "plt.show()"
   ]
  }
 ],
 "metadata": {
  "kernelspec": {
   "display_name": "Python 3 (ipykernel)",
   "language": "python",
   "name": "python3"
  },
  "language_info": {
   "codemirror_mode": {
    "name": "ipython",
    "version": 3
   },
   "file_extension": ".py",
   "mimetype": "text/x-python",
   "name": "python",
   "nbconvert_exporter": "python",
   "pygments_lexer": "ipython3",
   "version": "3.9.12"
  },
  "papermill": {
   "default_parameters": {},
   "duration": 9092.445605,
   "end_time": "2022-11-15T22:04:54.511877",
   "environment_variables": {},
   "exception": null,
   "input_path": "__notebook__.ipynb",
   "output_path": "__notebook__.ipynb",
   "parameters": {},
   "start_time": "2022-11-15T19:33:22.066272",
   "version": "2.3.4"
  }
 },
 "nbformat": 4,
 "nbformat_minor": 5
}
